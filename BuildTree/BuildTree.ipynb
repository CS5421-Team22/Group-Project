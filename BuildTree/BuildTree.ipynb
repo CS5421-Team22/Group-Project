{
 "cells": [
  {
   "cell_type": "code",
   "execution_count": 1,
   "id": "ddc71a12",
   "metadata": {},
   "outputs": [],
   "source": [
    "library = {'library':{ \n",
    "                        'album': \n",
    "                                [\n",
    "\n",
    "                                    {\n",
    "                                     'title': 'Bua Hati',\n",
    "                                     'artists': {'artist': [{'name': 'Anang Ashanty', 'country': 'Indonesia'},\n",
    "                                                            {'name': 'Kris Dayanti', 'country': 'Indonesia'}]},\n",
    "                                     'songs': {'song': [ {'title': 'Timang-Timang', 'duration': '5:13'},\n",
    "                                                         {'title': 'Miliki Diriku', 'duration': '5:35'},\n",
    "                                                         {'title': 'Bua Hati', 'duration': '5:07'}]},\n",
    "                                     'genres': {'genre': ['Pop', \n",
    "                                                          'World']},\n",
    "                                     'year': 1998},\n",
    "\n",
    "                                    {'title': 'Separuh Jiwaku Pergi',\n",
    "                                     'artists': {'artist': {'name': 'Anang Ashanty', 'country': 'Indonesia'}},\n",
    "                                     'songs': {'song': [ {'title': 'Separuh Jiwaku Pergi', 'duration': '5:00'},\n",
    "                                                         {'title': 'Belajarlah Untuk Cinta', 'duration': '5:23'},\n",
    "                                                         {'title': 'Hujanpun Menangis', 'duration': '4:17'}]},\n",
    "                                     'genres': {'genre': ['Pop', \n",
    "                                                          'World']},\n",
    "                                     'year': 1998}\n",
    "                                ]\n",
    "                        }\n",
    "            }"
   ]
  },
  {
   "cell_type": "code",
   "execution_count": 2,
   "id": "853919b8",
   "metadata": {},
   "outputs": [],
   "source": [
    "# The input of buildTree is a dictionary\n",
    "def buildTree(data):\n",
    "    # get the name of the root node from the key of dictionary\n",
    "    root_name = list(data.keys())[0]\n",
    "    \n",
    "    # initialize the tree node without parent\n",
    "    root_node = jsonTreeNode(root_name, None )\n",
    "    \n",
    "    # modify the child/value attribute of the root node\n",
    "    modifyNode(root_node, data[root_name])\n",
    "    \n",
    "    return root_node\n",
    "    \n",
    "    \n",
    "#  The node may contain:\n",
    "\n",
    "# 1. a basic element without structure , like a string/integer/float\n",
    "#    -> this node is a leaf node\n",
    "#    -> we need to modify node.value\n",
    "\n",
    "# 2. a dictionary \n",
    "#    -> this node has child/ children\n",
    "#    -> we need to modify node.child\n",
    "# (1) {  child_name: list of elements }, a group of siblings with the same name, eg: album, artist, song, genre\n",
    "# (2) { child_name1, child_name2, ...}, a group of siblings with different names\n",
    "\n",
    "def modifyNode(node, data):\n",
    "    if isinstance(data,dict):\n",
    "        setChild(node, data)\n",
    "    else:\n",
    "        node.setValue(data)\n",
    "\n",
    "\n",
    "def setChild(node, data):\n",
    "    first_key = list(data.keys())[0]\n",
    "    child_list = []\n",
    "    if isinstance(data[first_key],list):\n",
    "        child_list = sameNameSibling(parent = node,name = first_key,data = data[first_key])\n",
    "    else:\n",
    "        child_list = diffNameSibling(parent = node,data = data)\n",
    "    node.setChild(child_list)\n",
    "    \n",
    "    \n",
    "# \"data\" is a list \n",
    "def sameNameSibling(parent,name,data):\n",
    "    res_list = []\n",
    "    for ele in data:\n",
    "        new_node = jsonTreeNode(name,parent)\n",
    "        modifyNode(new_node,ele)\n",
    "        res_list.append(new_node)\n",
    "    return res_list\n",
    "\n",
    "\n",
    "# \"data\" is a dictionary\n",
    "def diffNameSibling(parent,data):\n",
    "    res_list = []\n",
    "    for key in data:\n",
    "        new_node = jsonTreeNode(key,parent)\n",
    "        modifyNode(new_node,data[key])\n",
    "        res_list.append(new_node)\n",
    "    return res_list\n",
    "      "
   ]
  },
  {
   "cell_type": "code",
   "execution_count": 3,
   "id": "39208ee2",
   "metadata": {},
   "outputs": [],
   "source": [
    "class jsonTreeNode:\n",
    "    \n",
    "    def __init__(self, name, parent = None):\n",
    "        self.name = name\n",
    "        self.parent = parent\n",
    "        self.child = []\n",
    "        self.value = None\n",
    "        \n",
    "    # Set\n",
    "    def setValue(self, value):\n",
    "        self.value = value\n",
    "    \n",
    "    def setChild(self, child):\n",
    "        self.child = child\n",
    "    \n",
    "    # Get\n",
    "    def getName(self):\n",
    "        return self.name\n",
    "    \n",
    "    def getParent(self):\n",
    "        return self.parent\n",
    "    \n",
    "    def getChild(self):\n",
    "        return self.child\n",
    "    \n",
    "    def getValue(self):\n",
    "        return self.value\n",
    "    \n",
    "    def getSibling(self):\n",
    "        return [ sibling for sibling in self.parent.child if sibling != self ]\n",
    "    \n",
    "    \n",
    "    # Judgement -> True/False\n",
    "    def isRoot(self):\n",
    "        if self.Parent:\n",
    "            return False\n",
    "        else:\n",
    "            return True\n",
    "    \n",
    "\n",
    "    def haveChild(self):\n",
    "        if self.child:\n",
    "            return True\n",
    "        else:\n",
    "            return False\n",
    "    \n",
    "    def haveValue(self):\n",
    "        if self.Value is None:\n",
    "            return False\n",
    "        else:\n",
    "            return True\n",
    "    \n",
    "    def haveSibling(self):\n",
    "        if len(self.getSibling()) < 1:\n",
    "            return False\n",
    "        else:\n",
    "            return True\n",
    "    "
   ]
  },
  {
   "cell_type": "code",
   "execution_count": 4,
   "id": "a928c51e",
   "metadata": {},
   "outputs": [],
   "source": [
    "test1 = {'genres': {'genre': ['Pop', 'World']}}"
   ]
  },
  {
   "cell_type": "code",
   "execution_count": 5,
   "id": "6b1703d0",
   "metadata": {},
   "outputs": [],
   "source": [
    "root1 = buildTree(test1)"
   ]
  },
  {
   "cell_type": "code",
   "execution_count": 6,
   "id": "b1f13481",
   "metadata": {},
   "outputs": [
    {
     "name": "stdout",
     "output_type": "stream",
     "text": [
      "genres\n"
     ]
    }
   ],
   "source": [
    "print(root1.getName())"
   ]
  },
  {
   "cell_type": "code",
   "execution_count": 7,
   "id": "089a896f",
   "metadata": {},
   "outputs": [
    {
     "name": "stdout",
     "output_type": "stream",
     "text": [
      "name:genre, value: Pop, sibling_value:['World']\n",
      "name:genre, value: World, sibling_value:['Pop']\n"
     ]
    }
   ],
   "source": [
    "for child in root1.child:\n",
    "    print(f'name:{child.name}, value: {child.value}, sibling_value:{[ sibling.getValue() for sibling in child.getSibling()]}')"
   ]
  },
  {
   "cell_type": "code",
   "execution_count": 8,
   "id": "7e5e7c1e",
   "metadata": {},
   "outputs": [],
   "source": [
    "test2 = library"
   ]
  },
  {
   "cell_type": "code",
   "execution_count": 9,
   "id": "ec641ea5",
   "metadata": {},
   "outputs": [],
   "source": [
    "root2 = buildTree(test2)"
   ]
  },
  {
   "cell_type": "code",
   "execution_count": 10,
   "id": "1a35bf5d",
   "metadata": {},
   "outputs": [
    {
     "name": "stdout",
     "output_type": "stream",
     "text": [
      "name:album,  #child:5, child_name:['title', 'artists', 'songs', 'genres', 'year'] \n",
      "name:album,  #child:5, child_name:['title', 'artists', 'songs', 'genres', 'year'] \n"
     ]
    }
   ],
   "source": [
    "for child in root2.child:\n",
    "    print(f'name:{child.name},  #child:{len(child.child)}, child_name:{ [child.getName() for child in child.getChild()]} ')"
   ]
  },
  {
   "cell_type": "code",
   "execution_count": null,
   "id": "a922c7ba",
   "metadata": {},
   "outputs": [],
   "source": []
  }
 ],
 "metadata": {
  "kernelspec": {
   "display_name": "Python 3 (ipykernel)",
   "language": "python",
   "name": "python3"
  },
  "language_info": {
   "codemirror_mode": {
    "name": "ipython",
    "version": 3
   },
   "file_extension": ".py",
   "mimetype": "text/x-python",
   "name": "python",
   "nbconvert_exporter": "python",
   "pygments_lexer": "ipython3",
   "version": "3.9.7"
  }
 },
 "nbformat": 4,
 "nbformat_minor": 5
}
