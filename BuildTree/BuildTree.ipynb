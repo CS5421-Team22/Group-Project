{
 "cells": [
  {
   "cell_type": "code",
   "execution_count": 1,
   "id": "d405cdfe",
   "metadata": {},
   "outputs": [],
   "source": [
    "library = {'library':{ \n",
    "                        'album': \n",
    "                                [\n",
    "\n",
    "                                    {\n",
    "                                     'title': 'Bua Hati',\n",
    "                                     'artists': {'artist': [{'name': 'Anang Ashanty', 'country': 'Indonesia'},\n",
    "                                                            {'name': 'Kris Dayanti', 'country': 'Indonesia'}]},\n",
    "                                     'songs': {'song': [ {'title': 'Timang-Timang', 'duration': '5:13'},\n",
    "                                                         {'title': 'Miliki Diriku', 'duration': '5:35'},\n",
    "                                                         {'title': 'Bua Hati', 'duration': '5:07'}]},\n",
    "                                     'genres': {'genre': ['Pop', \n",
    "                                                          'World']},\n",
    "                                     'year': 1998},\n",
    "\n",
    "                                    {'title': 'Separuh Jiwaku Pergi',\n",
    "                                     'artists': {'artist': {'name': 'Anang Ashanty', 'country': 'Indonesia'}},\n",
    "                                     'songs': {'song': [ {'title': 'Separuh Jiwaku Pergi', 'duration': '5:00'},\n",
    "                                                         {'title': 'Belajarlah Untuk Cinta', 'duration': '5:23'},\n",
    "                                                         {'title': 'Hujanpun Menangis', 'duration': '4:17'}]},\n",
    "                                     'genres': {'genre': ['Pop', \n",
    "                                                          'World']},\n",
    "                                     'year': 1998}\n",
    "                                ]\n",
    "                        }\n",
    "            }"
   ]
  },
  {
   "cell_type": "code",
   "execution_count": 2,
   "id": "6f9eb71e",
   "metadata": {},
   "outputs": [],
   "source": [
    "# The input of buildTree is a dictionary\n",
    "def buildTree(data):\n",
    "    # get the name of the root node from the key of dictionary\n",
    "    root_name = list(data.keys())[0]\n",
    "    \n",
    "    # initialize the tree node without parent\n",
    "    root_node = jsonTreeNode(root_name, None )\n",
    "    \n",
    "    # modify the child/value attribute of the root node\n",
    "    modifyNode(root_node, data[root_name])\n",
    "    \n",
    "    return root_node\n",
    "    \n",
    "    \n",
    "#  The node may contain:\n",
    "\n",
    "# 1. a basic element without structure , like a string/integer/float\n",
    "#    -> this node is a leaf node\n",
    "#    -> we need to modify node.value\n",
    "\n",
    "# 2. a dictionary \n",
    "#    -> this node has child nodes\n",
    "#    -> we need to modify node.child\n",
    "# (1) {  child_name: [...] }, a group of siblings with the same name, eg: album, artist, song, genre\n",
    "# (2) { child_name1, child_name2, ...}, a group of siblings with different names\n",
    "# (3) a mix of (1) and (2), { child_name1:[...], childname2, childname3, ...}\n",
    "\n",
    "def modifyNode(node, data):\n",
    "    if isinstance(data,dict):\n",
    "        setChild(node, data)\n",
    "    else:\n",
    "        node.setValue(data)\n",
    "\n",
    "# data is a dictionary\n",
    "def setChild(node, data):\n",
    "    child_list = []\n",
    "    for key in data:\n",
    "        if isinstance(data[key],list):\n",
    "            #there are multiple child nodes with the same name\n",
    "            child_list.extend(sameName(parent = node,name = key ,data = data[key]))\n",
    "        else:\n",
    "            new_node = jsonTreeNode(key,node)\n",
    "            modifyNode(new_node,data[key])\n",
    "            child_list.append(new_node)\n",
    "    node.setChild(child_list)\n",
    "    \n",
    "    \n",
    "# \"data\" is a list \n",
    "def sameName(parent,name,data):\n",
    "    res_list = []\n",
    "    for ele in data:\n",
    "        new_node = jsonTreeNode(name,parent)\n",
    "        modifyNode(new_node,ele)\n",
    "        res_list.append(new_node)\n",
    "    return res_list\n",
    "\n"
   ]
  },
  {
   "cell_type": "code",
   "execution_count": 3,
   "id": "766802c8",
   "metadata": {},
   "outputs": [],
   "source": [
    "class jsonTreeNode:\n",
    "    \n",
    "    def __init__(self, name, parent = None):\n",
    "        self.name = name\n",
    "        self.parent = parent\n",
    "        self.child = []\n",
    "        self.value = None\n",
    "        \n",
    "    def __repr__(self):\n",
    "        return f\"<{self.name}>\"\n",
    "        \n",
    "    # Set\n",
    "    def setValue(self, value):\n",
    "        self.value = value\n",
    "    \n",
    "    def setChild(self, child):\n",
    "        self.child = child\n",
    "    \n",
    "    # Get\n",
    "    def getName(self):\n",
    "        return self.name\n",
    "    \n",
    "    def getParent(self):\n",
    "        return self.parent\n",
    "    \n",
    "    def getChild(self):\n",
    "        return self.child\n",
    "    \n",
    "    def getValue(self):\n",
    "        return self.value\n",
    "    \n",
    "    def getSibling(self):\n",
    "        return [ sibling for sibling in self.parent.child if sibling != self ]\n",
    "    \n",
    "    \n",
    "    # Judgement -> True/False\n",
    "    def isRoot(self):\n",
    "        if self.parent:\n",
    "            return False\n",
    "        else:\n",
    "            return True\n",
    "    \n",
    "\n",
    "    def haveChild(self):\n",
    "        if self.child:\n",
    "            return True\n",
    "        else:\n",
    "            return False\n",
    "    \n",
    "    def haveValue(self):\n",
    "        if self.value is None:\n",
    "            return False\n",
    "        else:\n",
    "            return True\n",
    "    \n",
    "    def haveSibling(self):\n",
    "        if len(self.getSibling()) < 1:\n",
    "            return False\n",
    "        else:\n",
    "            return True\n",
    "\n",
    "    "
   ]
  },
  {
   "cell_type": "code",
   "execution_count": 4,
   "id": "0953b6e4",
   "metadata": {},
   "outputs": [],
   "source": [
    "test1 = {'genres': {'genre': ['Pop', 'World']}}"
   ]
  },
  {
   "cell_type": "code",
   "execution_count": 5,
   "id": "50ce42a4",
   "metadata": {},
   "outputs": [],
   "source": [
    "root1 = buildTree(test1)"
   ]
  },
  {
   "cell_type": "code",
   "execution_count": 6,
   "id": "ea387d7d",
   "metadata": {},
   "outputs": [
    {
     "name": "stdout",
     "output_type": "stream",
     "text": [
      "genres\n"
     ]
    }
   ],
   "source": [
    "print(root1.getName())"
   ]
  },
  {
   "cell_type": "code",
   "execution_count": 7,
   "id": "ebd2d7f0",
   "metadata": {},
   "outputs": [
    {
     "name": "stdout",
     "output_type": "stream",
     "text": [
      "name:genre, value: Pop, sibling_value:['World']\n",
      "name:genre, value: World, sibling_value:['Pop']\n"
     ]
    }
   ],
   "source": [
    "for child in root1.child:\n",
    "    print(f'name:{child.name}, value: {child.value}, sibling_value:{[ sibling.getValue() for sibling in child.getSibling()]}')"
   ]
  },
  {
   "cell_type": "code",
   "execution_count": 8,
   "id": "eb29b2ed",
   "metadata": {},
   "outputs": [],
   "source": [
    "test2 = library"
   ]
  },
  {
   "cell_type": "code",
   "execution_count": 9,
   "id": "c1089ba7",
   "metadata": {},
   "outputs": [],
   "source": [
    "root2 = buildTree(test2)"
   ]
  },
  {
   "cell_type": "code",
   "execution_count": 10,
   "id": "ba0563c1",
   "metadata": {},
   "outputs": [
    {
     "name": "stdout",
     "output_type": "stream",
     "text": [
      "name:album,  #child:5, child_name:['title', 'artists', 'songs', 'genres', 'year'] \n",
      "name:album,  #child:5, child_name:['title', 'artists', 'songs', 'genres', 'year'] \n"
     ]
    }
   ],
   "source": [
    "for child in root2.child:\n",
    "    print(f'name:{child.name},  #child:{len(child.child)}, child_name:{ [child.getName() for child in child.getChild()]} ')"
   ]
  },
  {
   "cell_type": "code",
   "execution_count": 11,
   "id": "92c9aff2",
   "metadata": {},
   "outputs": [],
   "source": [
    "test3 = {'songs': {'song': [ {'title': 'Timang-Timang', 'duration': '5:13'},\n",
    "                     {'title': 'Miliki Diriku', 'duration': '5:35'},\n",
    "                     {'title': 'Bua Hati', 'duration': '5:07'}],\n",
    "                  'total': '15:55' }}"
   ]
  },
  {
   "cell_type": "code",
   "execution_count": 12,
   "id": "31805fe5",
   "metadata": {},
   "outputs": [],
   "source": [
    "root3 = buildTree(test3)"
   ]
  },
  {
   "cell_type": "code",
   "execution_count": 13,
   "id": "bee6a720",
   "metadata": {
    "scrolled": false
   },
   "outputs": [
    {
     "name": "stdout",
     "output_type": "stream",
     "text": [
      "name:song, have child:True, haveValue:False\n",
      "name:song, have child:True, haveValue:False\n",
      "name:song, have child:True, haveValue:False\n",
      "name:total, have child:False, haveValue:True\n"
     ]
    }
   ],
   "source": [
    "for child in root3.child:\n",
    "    print(f'name:{child.name}, have child:{child.haveChild()}, haveValue:{child.haveValue()}')"
   ]
  },
  {
   "cell_type": "code",
   "execution_count": 14,
   "id": "8343ae78",
   "metadata": {},
   "outputs": [
    {
     "name": "stdout",
     "output_type": "stream",
     "text": [
      "<songs>\n"
     ]
    }
   ],
   "source": [
    "print(root3)"
   ]
  },
  {
   "cell_type": "code",
   "execution_count": null,
   "id": "c376557a",
   "metadata": {},
   "outputs": [],
   "source": []
  }
 ],
 "metadata": {
  "kernelspec": {
   "display_name": "Python 3 (ipykernel)",
   "language": "python",
   "name": "python3"
  },
  "language_info": {
   "codemirror_mode": {
    "name": "ipython",
    "version": 3
   },
   "file_extension": ".py",
   "mimetype": "text/x-python",
   "name": "python",
   "nbconvert_exporter": "python",
   "pygments_lexer": "ipython3",
   "version": "3.9.6"
  }
 },
 "nbformat": 4,
 "nbformat_minor": 5
}
