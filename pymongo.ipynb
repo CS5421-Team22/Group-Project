{
 "cells": [
  {
   "cell_type": "code",
   "execution_count": 1,
   "id": "2959b7f2",
   "metadata": {},
   "outputs": [
    {
     "data": {
      "text/plain": [
       "{'library': [{'album': {'title': 'Bua Hati',\n",
       "    'artists': {'artist': [{'name': 'Anang Ashanty', 'country': 'Indonesia'},\n",
       "      {'name': 'Kris Dayanti', 'country': 'Indonesia'}]},\n",
       "    'songs': {'song': [{'title': 'Timang-Timang', 'duration': '5:13'},\n",
       "      {'title': 'Miliki Diriku', 'duration': '5:35'},\n",
       "      {'title': 'Bua Hati', 'duration': '5:07'}]},\n",
       "    'genres': {'genre': ['Pop', 'World']},\n",
       "    'year': 1998}},\n",
       "  {'album': {'title': 'Separuh Jiwaku Pergi',\n",
       "    'artists': {'artist': {'name': 'Anang Ashanty', 'country': 'Indonesia'}},\n",
       "    'songs': {'song': [{'title': 'Separuh Jiwaku Pergi', 'duration': '5:00'},\n",
       "      {'title': 'Belajarlah Untuk Cinta', 'duration': '5:23'},\n",
       "      {'title': 'Hujanpun Menangis', 'duration': '4:17'}]},\n",
       "    'genres': {'genre': ['Pop', 'World']},\n",
       "    'year': 1998}}]}"
      ]
     },
     "execution_count": 1,
     "metadata": {},
     "output_type": "execute_result"
    }
   ],
   "source": [
    "import json\n",
    "f = open('/Users/ludongdong/Downloads/library.json')\n",
    "data = json.load(f)\n",
    "data"
   ]
  },
  {
   "cell_type": "code",
   "execution_count": 2,
   "id": "d06b0cab",
   "metadata": {},
   "outputs": [],
   "source": [
    "input1 = 'doc(\"library.xml\")/child::library/child::album/child::songs/child::song/child::title'\n",
    "input2 = \"doc('library.xml')/child::album[child::year>=1990 and child::year<=2000]/child::artists/child::artist[child::country='Indonesia']/child::name\""
   ]
  },
  {
   "cell_type": "code",
   "execution_count": 29,
   "id": "dda38ff0",
   "metadata": {},
   "outputs": [
    {
     "data": {
      "text/plain": [
       "[{'title': 'Timang-Timang'},\n",
       " {'title': 'Miliki Diriku'},\n",
       " {'title': 'Bua Hati'},\n",
       " {'title': 'Separuh Jiwaku Pergi'},\n",
       " {'title': 'Belajarlah Untuk Cinta'},\n",
       " {'title': 'Hujanpun Menangis'}]"
      ]
     },
     "execution_count": 29,
     "metadata": {},
     "output_type": "execute_result"
    }
   ],
   "source": [
    "getData(data, input1)"
   ]
  },
  {
   "cell_type": "code",
   "execution_count": 23,
   "id": "05eb31a4",
   "metadata": {},
   "outputs": [],
   "source": [
    "def basicFilter(data, predicate):\n",
    "    if len(predicate) != 0:\n",
    "        return False\n",
    "    return True"
   ]
  },
  {
   "cell_type": "code",
   "execution_count": 28,
   "id": "d10a6ca4",
   "metadata": {},
   "outputs": [],
   "source": [
    "def flatten(t):\n",
    "    return [item for sublist in t for item in sublist]\n",
    "\n",
    "def getData(doc, query):\n",
    "    queryArray = query.split('/')[1:]\n",
    "    return queryHelper(doc, queryArray, 0)\n",
    "\n",
    "def queryHelper(doc, queryArray, index):\n",
    "#     print(doc)\n",
    "#     print()\n",
    "    n = len(queryArray)\n",
    "    res = []\n",
    "    query = queryArray[index]\n",
    "    predicate = ''\n",
    "    if query[-1] == ']':\n",
    "        index_start = query.index('[')\n",
    "        predicate = query[index_start + 1 : -1]\n",
    "    if query[:7] == 'child::':\n",
    "        req = query[7:]\n",
    "        if type(doc) != list:\n",
    "            doc = [doc]\n",
    "        else:\n",
    "            while type(doc) == list and type(doc[0]) == list:\n",
    "                doc = flatten(doc)\n",
    "        for item in doc:\n",
    "            for key in item.keys():\n",
    "                if key == req and basicFilter(item[key], predicate):\n",
    "                    if index == n - 1:\n",
    "                        res.append({key: item[key]})\n",
    "                    else:\n",
    "                        res.append(item[key])\n",
    "    if index == n - 1:\n",
    "        return res\n",
    "    else:\n",
    "        return queryHelper(res, queryArray, index + 1)"
   ]
  }
 ],
 "metadata": {
  "kernelspec": {
   "display_name": "Python 3 (ipykernel)",
   "language": "python",
   "name": "python3"
  },
  "language_info": {
   "codemirror_mode": {
    "name": "ipython",
    "version": 3
   },
   "file_extension": ".py",
   "mimetype": "text/x-python",
   "name": "python",
   "nbconvert_exporter": "python",
   "pygments_lexer": "ipython3",
   "version": "3.9.7"
  }
 },
 "nbformat": 4,
 "nbformat_minor": 5
}
