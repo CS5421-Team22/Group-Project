{
 "cells": [
  {
   "cell_type": "code",
   "execution_count": null,
   "id": "8d98ca6a",
   "metadata": {},
   "outputs": [],
   "source": [
    "#  输入：一个Node，简单predicate\n",
    "#  输出：True 或 False\n",
    "# (1) position是否符合条件\n",
    "# (2) value是否符合条件\n"
   ]
  },
  {
   "cell_type": "code",
   "execution_count": 1,
   "id": "08348eb0",
   "metadata": {},
   "outputs": [],
   "source": [
    "# \"doc('library.xml')/child::album[child::year>=1990 and child::year<=2000]/child::artists/child::artist[child::country='Indonesia']/child::name\"\n",
    "pred1 = \"child::year>=1990\"\n",
    "pred2 = \"child::year<=2000\"\n",
    "pred3 = \"child::country='Indonesia'\""
   ]
  },
  {
   "cell_type": "code",
   "execution_count": 2,
   "id": "556fbf09",
   "metadata": {},
   "outputs": [
    {
     "name": "stdout",
     "output_type": "stream",
     "text": [
      "genres\n",
      "name:genre, value: Pop, sibling_value:['World']\n",
      "name:genre, value: World, sibling_value:['Pop']\n",
      "name:album,  #child:5, child_name:['title', 'artists', 'songs', 'genres', 'year'] \n",
      "name:album,  #child:5, child_name:['title', 'artists', 'songs', 'genres', 'year'] \n"
     ]
    }
   ],
   "source": [
    "%run ./BuildTree/BuildTree.ipynb"
   ]
  },
  {
   "cell_type": "code",
   "execution_count": 50,
   "id": "01f7578c",
   "metadata": {},
   "outputs": [],
   "source": [
    "year1 = root2.getChild()[0].getChild()[-1]\n",
    "year2 = root2.getChild()[1].getChild()[-1]"
   ]
  },
  {
   "cell_type": "code",
   "execution_count": 52,
   "id": "0ad9d4af",
   "metadata": {},
   "outputs": [],
   "source": [
    "def singlePredicate(node, predicate):\n",
    "# todo: Circumstance 1: position\n",
    "\n",
    "# Circumstance 2: evaluate value\n",
    "# identify operator\n",
    "    doubleOperators = ['>=', '<=', '!=']\n",
    "    singleOperators = ['>', '<', '=']\n",
    "    operatorIndex = -1\n",
    "    operator = ''\n",
    "    cmpVal = ''\n",
    "    existDoubleOperator = False\n",
    "    \n",
    "    for op in doubleOperators:   \n",
    "        if op in predicate:\n",
    "            existDoubleOperator = True\n",
    "            operator = op\n",
    "            cmpVal = predicate[predicate.index(op) + 2 : ].strip()\n",
    "            break\n",
    "    if not existDoubleOperator:       \n",
    "        for op in singleOperators:   \n",
    "            if op in predicate:\n",
    "                operator = op\n",
    "                cmpVal = predicate[predicate.index(op) + 1 : ].strip()\n",
    "                break       \n",
    "            \n",
    "#     compare values / operands\n",
    "    selfVal = str(node.getValue())\n",
    "    if selfVal.isnumeric():\n",
    "        if not cmpVal.isnumeric():\n",
    "            return False\n",
    "        else:\n",
    "            cmpVal = float(cmpVal)\n",
    "            selfVal = float(selfVal)\n",
    "            \n",
    "    if operator == '>':\n",
    "        return selfVal > cmpVal\n",
    "    elif operator == '<':\n",
    "        return selfVal < cmpVal\n",
    "    elif operator == '=':\n",
    "        return selfVal == cmpVal\n",
    "    elif operator == '>=':\n",
    "        return selfVal >= cmpVal\n",
    "    elif operator == '<=':\n",
    "        return selfVal <= cmpVal\n",
    "    elif operator == '!=':\n",
    "        return selfVal != cmpVal\n",
    "    return False"
   ]
  },
  {
   "cell_type": "code",
   "execution_count": 53,
   "id": "bc141e74",
   "metadata": {},
   "outputs": [
    {
     "name": "stdout",
     "output_type": "stream",
     "text": [
      "True\n",
      "True\n",
      "True\n",
      "True\n"
     ]
    }
   ],
   "source": [
    "print(singlePredicate(year1, pred1)) # should return true\n",
    "print(singlePredicate(year1, pred2)) # should return true\n",
    "print(singlePredicate(year2, pred1)) # should return true\n",
    "print(singlePredicate(year2, pred2)) # should return true"
   ]
  }
 ],
 "metadata": {
  "kernelspec": {
   "display_name": "Python 3 (ipykernel)",
   "language": "python",
   "name": "python3"
  },
  "language_info": {
   "codemirror_mode": {
    "name": "ipython",
    "version": 3
   },
   "file_extension": ".py",
   "mimetype": "text/x-python",
   "name": "python",
   "nbconvert_exporter": "python",
   "pygments_lexer": "ipython3",
   "version": "3.9.7"
  }
 },
 "nbformat": 4,
 "nbformat_minor": 5
}
