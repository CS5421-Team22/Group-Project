{
 "cells": [
  {
   "cell_type": "code",
   "execution_count": 1,
   "id": "ceb5e704",
   "metadata": {},
   "outputs": [],
   "source": [
    "# Part 1: parse query to list of dictionaries\n",
    "# todo: deal with '//'\n",
    "def parseQuery(query):\n",
    "    res = []\n",
    "    queryArray = query.split('/')\n",
    "#     whether first query is doc\n",
    "    firstQuery = queryArray[0]\n",
    "    if firstQuery.index('doc') != -1:\n",
    "        queryArray = queryArray[1:]\n",
    "        end = firstQuery.index('.')\n",
    "        collection = firstQuery[5 : end]\n",
    "        res.append({'collection': collection})\n",
    "    else:\n",
    "        res.append({})\n",
    "\n",
    "#     parse the rest of queries\n",
    "    for query in queryArray:\n",
    "        n = len(query)\n",
    "        name = ''\n",
    "        axis = ''\n",
    "        predicate = ''\n",
    "        index_pred = n\n",
    "#         parse predicate\n",
    "        if query[-1] == ']':\n",
    "            index_pred = query.index('[')\n",
    "            predicate = query[index_pred + 1 : -1]\n",
    "            query = query[ : index_pred]\n",
    "#         parse name and axis\n",
    "        index_split = query.index('::')\n",
    "        if index_split != -1:\n",
    "            axis = query[: index_split]\n",
    "            name = query[index_split + 2 : index_pred]\n",
    "        else:\n",
    "            axis = 'child'\n",
    "            name = query[: index_pred]\n",
    "        dict_query = {'name' : name, 'axis' : axis, 'predicate': predicate}\n",
    "        res.append(dict_query)\n",
    "    return res"
   ]
  },
  {
   "cell_type": "code",
   "execution_count": 2,
   "id": "cab95744",
   "metadata": {},
   "outputs": [
    {
     "data": {
      "text/plain": [
       "[{'collection': 'library'},\n",
       " {'name': 'album',\n",
       "  'axis': 'child',\n",
       "  'predicate': 'child::year>=1990 and child::year<=2000'},\n",
       " {'name': 'artists', 'axis': 'child', 'predicate': ''},\n",
       " {'name': 'artist',\n",
       "  'axis': 'child',\n",
       "  'predicate': \"child::country='Indonesia'\"},\n",
       " {'name': 'name', 'axis': 'child', 'predicate': ''}]"
      ]
     },
     "execution_count": 2,
     "metadata": {},
     "output_type": "execute_result"
    }
   ],
   "source": [
    "query1 = 'doc(\"library.xml\")/child::library/child::album/child::songs/child::song/child::title'\n",
    "query2 = \"doc('library.xml')/child::album[child::year>=1990 and child::year<=2000]/child::artists/child::artist[child::country='Indonesia']/child::name\"\n",
    "parseQuery(query2)"
   ]
  }
 ],
 "metadata": {
  "kernelspec": {
   "display_name": "Python 3 (ipykernel)",
   "language": "python",
   "name": "python3"
  },
  "language_info": {
   "codemirror_mode": {
    "name": "ipython",
    "version": 3
   },
   "file_extension": ".py",
   "mimetype": "text/x-python",
   "name": "python",
   "nbconvert_exporter": "python",
   "pygments_lexer": "ipython3",
   "version": "3.9.7"
  }
 },
 "nbformat": 4,
 "nbformat_minor": 5
}
