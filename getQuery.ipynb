{
 "cells": [
  {
   "cell_type": "code",
   "execution_count": 16,
   "id": "f0f41728",
   "metadata": {},
   "outputs": [],
   "source": [
    "import re\n",
    "\n",
    "# Part 1: parse query to list of dictionaries\n",
    "def parseQuery(query):\n",
    "    res = []\n",
    "    \n",
    "    # sample:\n",
    "    #        query = \"class//stundent/mark\" \n",
    "    #        ['class', '//', 'stundent', '/', 'mark']   \n",
    "    queryArray = re.split(\"(//)\",query)\n",
    "    temp = []\n",
    "    for tmp in queryArray:\n",
    "        if tmp !=\"//\":\n",
    "            temp.extend(re.split(\"(/)\",tmp))\n",
    "        else:\n",
    "            temp.append(tmp)\n",
    "    temp = [ tmp.strip() for tmp in temp]\n",
    "    queryArray = [ tmp for tmp in temp if tmp]\n",
    "    \n",
    "\n",
    "#     whether first query is doc\n",
    "    firstQuery = queryArray[0]\n",
    "    if 'doc' in firstQuery:\n",
    "        queryArray = queryArray[1:]\n",
    "        end = firstQuery.index('.')\n",
    "        collection = firstQuery[5 : end]\n",
    "        res.append({'collection': collection})\n",
    "    else:\n",
    "        res.append({})\n",
    "\n",
    "#     parse the rest of queries\n",
    "    for i in range(len(queryArray)):\n",
    "        query = queryArray[i]\n",
    "        if query == \"/\" or  query == \"//\":\n",
    "            i += 1\n",
    "            continue\n",
    "            \n",
    "        n = len(query)\n",
    "        name = ''\n",
    "        axis = ''\n",
    "        predicate = ''\n",
    "        index_pred = n\n",
    "#         parse predicate\n",
    "        if query[-1] == ']':\n",
    "            index_pred = query.index('[')\n",
    "            predicate = query[index_pred + 1 : -1]\n",
    "            query = query[ : index_pred]\n",
    "#         parse name and axis\n",
    "        if \"::\" in query:\n",
    "            index_split = query.index('::')\n",
    "            axis = query[: index_split]\n",
    "            name = query[index_split + 2 : index_pred]\n",
    "        else:\n",
    "            if i>0 and queryArray[i-1] == \"//\":\n",
    "                axis = 'descendant'\n",
    "            else:\n",
    "                axis = 'child'\n",
    "            name = query[: index_pred]\n",
    "        dict_query = {'name' : name, 'axis' : axis, 'predicate': predicate}\n",
    "        res.append(dict_query)\n",
    "        i += 1\n",
    "    return res"
   ]
  },
  {
   "cell_type": "code",
   "execution_count": 17,
   "id": "3fbbc02f",
   "metadata": {},
   "outputs": [
    {
     "name": "stdout",
     "output_type": "stream",
     "text": [
      "[{}, {'name': 'class', 'axis': 'child', 'predicate': ''}, {'name': 'stundent', 'axis': 'descendant', 'predicate': ''}, {'name': 'mark', 'axis': 'child', 'predicate': ''}]\n"
     ]
    }
   ],
   "source": [
    "query = \"class//stundent/mark\"\n",
    "print(parseQuery(query))"
   ]
  },
  {
   "cell_type": "code",
   "execution_count": 20,
   "id": "19ccea94",
   "metadata": {},
   "outputs": [],
   "source": [
    "query1 = 'doc(\"library.xml\")/child::library/child::album/child::songs/child::song/child::title'\n",
    "query2 = \"doc('library.xml')//album[child::year>=1990 and child::year<=2000]/child::artists/child::artist[child::country='Indonesia']/child::name\""
   ]
  },
  {
   "cell_type": "code",
   "execution_count": 21,
   "id": "a615725c",
   "metadata": {},
   "outputs": [
    {
     "name": "stdout",
     "output_type": "stream",
     "text": [
      "[{'collection': 'library'}, {'name': 'library', 'axis': 'child', 'predicate': ''}, {'name': 'album', 'axis': 'child', 'predicate': ''}, {'name': 'songs', 'axis': 'child', 'predicate': ''}, {'name': 'song', 'axis': 'child', 'predicate': ''}, {'name': 'title', 'axis': 'child', 'predicate': ''}]\n",
      "[{'collection': 'library'}, {'name': 'album', 'axis': 'descendant', 'predicate': 'child::year>=1990 and child::year<=2000'}, {'name': 'artists', 'axis': 'child', 'predicate': ''}, {'name': 'artist', 'axis': 'child', 'predicate': \"child::country='Indonesia'\"}, {'name': 'name', 'axis': 'child', 'predicate': ''}]\n"
     ]
    }
   ],
   "source": [
    "print(parseQuery(query1))\n",
    "print(parseQuery(query2))"
   ]
  },
  {
   "cell_type": "code",
   "execution_count": null,
   "id": "e26402b0",
   "metadata": {},
   "outputs": [],
   "source": [
    "# query is a dicitonary\n",
    "# nodes is a list of dataTreeNode\n",
    "def singleQuery(nodes,query):\n",
    "    new_nodes = getNodesFromAxisAndName(nodes, query[\"axis\"], query[\"name\"])\n",
    "    \n",
    "    res = []\n",
    "    \n",
    "    if query[\"predicate\"]:\n",
    "        for node in new_nodes:\n",
    "            if complexPredicate(node,query['predicate']):\n",
    "                res.append(node)\n",
    "    \n",
    "    return res            "
   ]
  },
  {
   "cell_type": "code",
   "execution_count": null,
   "id": "f96438eb",
   "metadata": {},
   "outputs": [],
   "source": [
    "# nodes is a list of dataTreeNode \n",
    "# queries is a list of dictionaries, which is parsed queries\n",
    "\n",
    "def wholeQuery(nodes,queries):\n",
    "    for query in queries[1:]:\n",
    "        nodes = singleQuery(nodes,query)\n",
    "    \n",
    "    return nodes"
   ]
  },
  {
   "cell_type": "code",
   "execution_count": null,
   "id": "83d96e87",
   "metadata": {},
   "outputs": [],
   "source": [
    "# query is a Xpath string\n",
    "\n",
    "def getQuery(rootnode, query):\n",
    "    \n",
    "    queries = parseQuery(query)\n",
    "    nodes = [rootnode]\n",
    "    \n",
    "    return wholeQuery(nodes, queries)"
   ]
  },
  {
   "cell_type": "code",
   "execution_count": 35,
   "id": "e5f48c4c",
   "metadata": {},
   "outputs": [],
   "source": [
    "# recover the original dicionaries of one dataTreeNode\n",
    "\n",
    "def recoverNode(node):\n",
    "    \n",
    "    node_name = node.getName()\n",
    "    \n",
    "    node_dict = dict()\n",
    "    node_dict[node_name] = dict()\n",
    "\n",
    "    if node.haveChild():\n",
    "\n",
    "        child_nodes = node.getChild()\n",
    "        \n",
    "        # child_dict is like { name1:[<name1>,<name1>], name2:[<name2>]}\n",
    "        child_dict = dict()\n",
    "        for child_node in child_nodes:\n",
    "            child_name = child_node.getName()\n",
    "            if child_name in child_dict:\n",
    "                child_dict[child_name].append(child_node)\n",
    "            else:\n",
    "                child_dict[child_name] = [child_node]\n",
    "\n",
    "        for child_name in child_dict:\n",
    "            \n",
    "            # child_name_nodes is like  [<name1>,<name1>]\n",
    "            child_name_nodes = child_dict[child_name]\n",
    "\n",
    "            tmp = []\n",
    "            for child_name_node in child_name_nodes:\n",
    "                tmp.append(recoverNode(child_name_node)[child_name])\n",
    "                \n",
    "            if len(tmp) == 1:\n",
    "                node_dict[node_name][child_name] = tmp[0]\n",
    "            else:\n",
    "                node_dict[node_name][child_name] = tmp\n",
    "\n",
    "    else:\n",
    "        node_dict[node_name] = node.getValue()\n",
    "        \n",
    "    \n",
    "    # return a dictionary\n",
    "    return node_dict\n"
   ]
  },
  {
   "cell_type": "code",
   "execution_count": 24,
   "id": "073bd713",
   "metadata": {},
   "outputs": [],
   "source": [
    "# The input of buildTree is a dictionary\n",
    "def buildTree(data):\n",
    "    # get the name of the root node from the key of dictionary\n",
    "    root_name = list(data.keys())[0]\n",
    "    \n",
    "    # initialize the tree node without parent\n",
    "    root_node = jsonTreeNode(root_name, None )\n",
    "    \n",
    "    # modify the child/value attribute of the root node\n",
    "    modifyNode(root_node, data[root_name])\n",
    "    \n",
    "    return root_node\n",
    "    \n",
    "    \n",
    "#  The node may contain:\n",
    "\n",
    "# 1. a basic element without structure , like a string/integer/float\n",
    "#    -> this node is a leaf node\n",
    "#    -> we need to modify node.value\n",
    "\n",
    "# 2. a dictionary \n",
    "#    -> this node has child nodes\n",
    "#    -> we need to modify node.child\n",
    "# (1) {  child_name: [...] }, a group of siblings with the same name, eg: album, artist, song, genre\n",
    "# (2) { child_name1, child_name2, ...}, a group of siblings with different names\n",
    "# (3) a mix of (1) and (2), { child_name1:[...], childname2, childname3, ...}\n",
    "\n",
    "def modifyNode(node, data):\n",
    "    if isinstance(data,dict):\n",
    "        setChild(node, data)\n",
    "    else:\n",
    "        node.setValue(data)\n",
    "\n",
    "# data is a dictionary\n",
    "def setChild(node, data):\n",
    "    child_list = []\n",
    "    for key in data:\n",
    "        if isinstance(data[key],list):\n",
    "            #there are multiple child nodes with the same name\n",
    "            child_list.extend(sameName(parent = node,name = key ,data = data[key]))\n",
    "        else:\n",
    "            new_node = jsonTreeNode(key,node)\n",
    "            modifyNode(new_node,data[key])\n",
    "            child_list.append(new_node)\n",
    "    node.setChild(child_list)\n",
    "    \n",
    "    \n",
    "# \"data\" is a list \n",
    "def sameName(parent,name,data):\n",
    "    res_list = []\n",
    "    for ele in data:\n",
    "        new_node = jsonTreeNode(name,parent)\n",
    "        modifyNode(new_node,ele)\n",
    "        res_list.append(new_node)\n",
    "    return res_list\n",
    "\n",
    "\n",
    "class jsonTreeNode:\n",
    "    \n",
    "    def __init__(self, name, parent = None):\n",
    "        self.name = name\n",
    "        self.parent = parent\n",
    "        self.child = []\n",
    "        self.value = None\n",
    "        \n",
    "    def __repr__(self):\n",
    "        return f\"<{self.name}>\"\n",
    "        \n",
    "    # Set\n",
    "    def setValue(self, value):\n",
    "        self.value = value\n",
    "    \n",
    "    def setChild(self, child):\n",
    "        self.child = child\n",
    "    \n",
    "    # Get\n",
    "    def getName(self):\n",
    "        return self.name\n",
    "    \n",
    "    def getParent(self):\n",
    "        return self.parent\n",
    "    \n",
    "    def getChild(self):\n",
    "        return self.child\n",
    "    \n",
    "    def getValue(self):\n",
    "        return self.value\n",
    "    \n",
    "    def getSibling(self):\n",
    "        return [ sibling for sibling in self.parent.child if sibling != self ]\n",
    "    \n",
    "    \n",
    "    # Judgement -> True/False\n",
    "    def isRoot(self):\n",
    "        if self.parent:\n",
    "            return False\n",
    "        else:\n",
    "            return True\n",
    "    \n",
    "\n",
    "    def haveChild(self):\n",
    "        if self.child:\n",
    "            return True\n",
    "        else:\n",
    "            return False\n",
    "    \n",
    "    def haveValue(self):\n",
    "        if self.value is None:\n",
    "            return False\n",
    "        else:\n",
    "            return True\n",
    "    \n",
    "    def haveSibling(self):\n",
    "        if len(self.getSibling()) < 1:\n",
    "            return False\n",
    "        else:\n",
    "            return True\n",
    "    \n"
   ]
  },
  {
   "cell_type": "code",
   "execution_count": 25,
   "id": "c0254b14",
   "metadata": {},
   "outputs": [],
   "source": [
    "library = {'library':{ \n",
    "                        'album': \n",
    "                                [\n",
    "\n",
    "                                    {\n",
    "                                     'title': 'Bua Hati',\n",
    "                                     'artists': {'artist': [{'name': 'Anang Ashanty', 'country': 'Indonesia'},\n",
    "                                                            {'name': 'Kris Dayanti', 'country': 'Indonesia'}]},\n",
    "                                     'songs': {'song': [ {'title': 'Timang-Timang', 'duration': '5:13'},\n",
    "                                                         {'title': 'Miliki Diriku', 'duration': '5:35'},\n",
    "                                                         {'title': 'Bua Hati', 'duration': '5:07'}]},\n",
    "                                     'genres': {'genre': ['Pop', \n",
    "                                                          'World']},\n",
    "                                     'year': 1998},\n",
    "\n",
    "                                    {'title': 'Separuh Jiwaku Pergi',\n",
    "                                     'artists': {'artist': {'name': 'Anang Ashanty', 'country': 'Indonesia'}},\n",
    "                                     'songs': {'song': [ {'title': 'Separuh Jiwaku Pergi', 'duration': '5:00'},\n",
    "                                                         {'title': 'Belajarlah Untuk Cinta', 'duration': '5:23'},\n",
    "                                                         {'title': 'Hujanpun Menangis', 'duration': '4:17'}]},\n",
    "                                     'genres': {'genre': ['Pop', \n",
    "                                                          'World']},\n",
    "                                     'year': 1998}\n",
    "                                ]\n",
    "                        }\n",
    "            }"
   ]
  },
  {
   "cell_type": "code",
   "execution_count": 26,
   "id": "91ecf7a7",
   "metadata": {},
   "outputs": [
    {
     "name": "stdout",
     "output_type": "stream",
     "text": [
      "<library>\n"
     ]
    }
   ],
   "source": [
    "root = buildTree(library)\n",
    "print(root)"
   ]
  },
  {
   "cell_type": "code",
   "execution_count": 36,
   "id": "4614c761",
   "metadata": {},
   "outputs": [
    {
     "name": "stdout",
     "output_type": "stream",
     "text": [
      "{'library': {'album': [{'title': 'Bua Hati', 'artists': {'artist': [{'name': 'Anang Ashanty', 'country': 'Indonesia'}, {'name': 'Kris Dayanti', 'country': 'Indonesia'}]}, 'songs': {'song': [{'title': 'Timang-Timang', 'duration': '5:13'}, {'title': 'Miliki Diriku', 'duration': '5:35'}, {'title': 'Bua Hati', 'duration': '5:07'}]}, 'genres': {'genre': ['Pop', 'World']}, 'year': 1998}, {'title': 'Separuh Jiwaku Pergi', 'artists': {'artist': {'name': 'Anang Ashanty', 'country': 'Indonesia'}}, 'songs': {'song': [{'title': 'Separuh Jiwaku Pergi', 'duration': '5:00'}, {'title': 'Belajarlah Untuk Cinta', 'duration': '5:23'}, {'title': 'Hujanpun Menangis', 'duration': '4:17'}]}, 'genres': {'genre': ['Pop', 'World']}, 'year': 1998}]}}\n"
     ]
    }
   ],
   "source": [
    "res = recoverNode(root)\n",
    "print(res)"
   ]
  },
  {
   "cell_type": "code",
   "execution_count": 37,
   "id": "b608a0ec",
   "metadata": {},
   "outputs": [
    {
     "data": {
      "text/plain": [
       "True"
      ]
     },
     "execution_count": 37,
     "metadata": {},
     "output_type": "execute_result"
    }
   ],
   "source": [
    "res == library"
   ]
  },
  {
   "cell_type": "code",
   "execution_count": null,
   "id": "6450a6c0",
   "metadata": {},
   "outputs": [],
   "source": []
  }
 ],
 "metadata": {
  "kernelspec": {
   "display_name": "Python 3 (ipykernel)",
   "language": "python",
   "name": "python3"
  },
  "language_info": {
   "codemirror_mode": {
    "name": "ipython",
    "version": 3
   },
   "file_extension": ".py",
   "mimetype": "text/x-python",
   "name": "python",
   "nbconvert_exporter": "python",
   "pygments_lexer": "ipython3",
   "version": "3.9.6"
  }
 },
 "nbformat": 4,
 "nbformat_minor": 5
}
