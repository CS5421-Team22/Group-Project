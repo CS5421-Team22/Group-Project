{
 "cells": [
  {
   "cell_type": "code",
   "execution_count": 2,
   "id": "18a9a452",
   "metadata": {},
   "outputs": [
    {
     "name": "stdout",
     "output_type": "stream",
     "text": [
      "genres\n",
      "name:genre, value: Pop, sibling_value:['World']\n",
      "name:genre, value: World, sibling_value:['Pop']\n",
      "name:album,  #child:5, child_name:['title', 'artists', 'songs', 'genres', 'year'] \n",
      "name:album,  #child:5, child_name:['title', 'artists', 'songs', 'genres', 'year'] \n"
     ]
    }
   ],
   "source": [
    "%run ./BuildTree/BuildTree.ipynb\n",
    "%run ./QueryParser.ipynb"
   ]
  },
  {
   "cell_type": "code",
   "execution_count": 3,
   "id": "5e141030",
   "metadata": {},
   "outputs": [
    {
     "name": "stdout",
     "output_type": "stream",
     "text": [
      "[{'collection': 'library'}, {'name': 'library', 'axis': 'child', 'predicate': ''}, {'name': 'album', 'axis': 'child', 'predicate': ''}, {'name': 'songs', 'axis': 'child', 'predicate': ''}, {'name': 'song', 'axis': 'child', 'predicate': ''}, {'name': 'title', 'axis': 'child', 'predicate': ''}]\n",
      "[{'collection': 'library'}, {'name': 'album', 'axis': 'child', 'predicate': 'child::year>=1990 and child::year<=2000'}, {'name': 'artists', 'axis': 'child', 'predicate': ''}, {'name': 'artist', 'axis': 'child', 'predicate': \"child::country='Indonesia'\"}, {'name': 'name', 'axis': 'child', 'predicate': ''}]\n"
     ]
    }
   ],
   "source": [
    "query1 = 'doc(\"library.xml\")/child::library/child::album/child::songs/child::song/child::title'\n",
    "query2 = \"doc('library.xml')/child::album[child::year>=1990 and child::year<=2000]/child::artists/child::artist[child::country='Indonesia']/child::name\"\n",
    "print(parseQuery(query1))\n",
    "print(parseQuery(query2))"
   ]
  },
  {
   "cell_type": "code",
   "execution_count": 4,
   "id": "e699f71d",
   "metadata": {},
   "outputs": [
    {
     "name": "stdout",
     "output_type": "stream",
     "text": [
      "{'library': {'album': [{'title': 'Bua Hati', 'artists': {'artist': [{'name': 'Anang Ashanty', 'country': 'Indonesia'}, {'name': 'Kris Dayanti', 'country': 'Indonesia'}]}, 'songs': {'song': [{'title': 'Timang-Timang', 'duration': '5:13'}, {'title': 'Miliki Diriku', 'duration': '5:35'}, {'title': 'Bua Hati', 'duration': '5:07'}]}, 'genres': {'genre': ['Pop', 'World']}, 'year': 1998}, {'title': 'Separuh Jiwaku Pergi', 'artists': {'artist': {'name': 'Anang Ashanty', 'country': 'Indonesia'}}, 'songs': {'song': [{'title': 'Separuh Jiwaku Pergi', 'duration': '5:00'}, {'title': 'Belajarlah Untuk Cinta', 'duration': '5:23'}, {'title': 'Hujanpun Menangis', 'duration': '4:17'}]}, 'genres': {'genre': ['Pop', 'World']}, 'year': 1998}]}}\n"
     ]
    }
   ],
   "source": [
    "print(library)"
   ]
  },
  {
   "cell_type": "code",
   "execution_count": 17,
   "id": "fed72238",
   "metadata": {},
   "outputs": [
    {
     "name": "stdout",
     "output_type": "stream",
     "text": [
      "Timang-Timang\n",
      "Miliki Diriku\n",
      "Bua Hati\n",
      "Bua Hati\n",
      "Separuh Jiwaku Pergi\n",
      "Belajarlah Untuk Cinta\n",
      "Hujanpun Menangis\n",
      "Separuh Jiwaku Pergi\n"
     ]
    }
   ],
   "source": [
    "# test\n",
    "nodes = root2\n",
    "axis = 'descendant'\n",
    "name = 'title'\n",
    "res = getNodesFromAxisAndName(nodes, axis, name)\n",
    "for node in res:\n",
    "    print(node.getValue())"
   ]
  },
  {
   "cell_type": "code",
   "execution_count": 7,
   "id": "07ce6c8f",
   "metadata": {},
   "outputs": [],
   "source": [
    "def getNodesFromAxisAndName(nodes, axis, name):\n",
    "    if type(nodes) != list:\n",
    "        nodes = [nodes]\n",
    "    res = getNodesFromAxis(nodes, axis)\n",
    "    res = getNodesFromName(res, name)\n",
    "    return res\n",
    "\n",
    "def getNodesFromAxis(nodes, axis):\n",
    "    res = []\n",
    "    if (axis == 'child'):\n",
    "        for node in nodes:\n",
    "            res.extend(node.getChild())\n",
    "    elif (axis == 'parent'):\n",
    "        for node in nodes:\n",
    "            res.extend(node.getParent())\n",
    "    elif (axis == 'sibling'):\n",
    "        for node in nodes:\n",
    "            res.extend(node.getSibling())\n",
    "    elif (axis == 'ancestor'):\n",
    "        for node in nodes:\n",
    "            temp = node.getParent()\n",
    "            res.extend(getNodesFromAxis(temp, axis))\n",
    "            res.extend(temp)\n",
    "    elif (axis == 'descendant'):\n",
    "        for node in nodes:\n",
    "            temp = node.getChild()\n",
    "            res.extend(getNodesFromAxis(temp, axis))\n",
    "            res.extend(temp)\n",
    "    return res\n",
    "\n",
    "def getNodesFromName(nodes, name):\n",
    "    res = []\n",
    "    for node in nodes:\n",
    "        if node.getName() == name:\n",
    "            res.append(node)\n",
    "    return res\n",
    "            "
   ]
  },
  {
   "cell_type": "code",
   "execution_count": null,
   "id": "08ad9197",
   "metadata": {},
   "outputs": [],
   "source": []
  }
 ],
 "metadata": {
  "kernelspec": {
   "display_name": "Python 3 (ipykernel)",
   "language": "python",
   "name": "python3"
  },
  "language_info": {
   "codemirror_mode": {
    "name": "ipython",
    "version": 3
   },
   "file_extension": ".py",
   "mimetype": "text/x-python",
   "name": "python",
   "nbconvert_exporter": "python",
   "pygments_lexer": "ipython3",
   "version": "3.9.7"
  }
 },
 "nbformat": 4,
 "nbformat_minor": 5
}
